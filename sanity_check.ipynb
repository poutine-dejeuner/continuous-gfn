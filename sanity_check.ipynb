{
 "cells": [
  {
   "attachments": {},
   "cell_type": "markdown",
   "metadata": {},
   "source": [
    "The purpose of this notebook is to empirically verify that the way (forward) log probabilities are evaluates, both at s_0 and s != s_0 is valid. The way the sanity check is done is by evaluating Riemaniann sums approximating the integral of the measure, which should be 1"
   ]
  },
  {
   "cell_type": "code",
   "execution_count": 196,
   "metadata": {},
   "outputs": [],
   "source": [
    "from env import Box, get_last_states\n",
    "from model import CirclePF, CirclePB, NeuralNet\n",
    "from sampling import sample_trajectories, evaluate_backward_logprobs, sample_actions\n",
    "import torch\n",
    "import numpy as np\n",
    "import matplotlib.pyplot as plt"
   ]
  },
  {
   "cell_type": "code",
   "execution_count": 197,
   "metadata": {},
   "outputs": [],
   "source": [
    "env = Box(2, delta=0.1)\n",
    "model = CirclePF(n_components=2, n_components_s0=4)\n",
    "\n",
    "bw_model = CirclePB(n_components=2)"
   ]
  },
  {
   "cell_type": "code",
   "execution_count": 198,
   "metadata": {},
   "outputs": [],
   "source": [
    "dist_r, dist_theta = model.to_dist(torch.zeros(1))\n",
    "samples_r, samples_theta = dist_r.sample((5,)), dist_theta.sample((5,))"
   ]
  },
  {
   "cell_type": "code",
   "execution_count": 199,
   "metadata": {},
   "outputs": [],
   "source": [
    "def eval_logprobs_s0(samples_r, samples_theta, without_log_delta=False):\n",
    "    logprobs = (\n",
    "            dist_r.log_prob(samples_r)\n",
    "            + dist_theta.log_prob(samples_theta)\n",
    "            - torch.log(samples_r * env.delta)\n",
    "            - np.log(np.pi / 2)\n",
    "            - 0 if without_log_delta else np.log(env.delta)\n",
    "        )\n",
    "    return logprobs"
   ]
  },
  {
   "cell_type": "code",
   "execution_count": 200,
   "metadata": {},
   "outputs": [],
   "source": [
    "def eval_logprobs(s, samples_sprime):\n",
    "    exit_proba, dist = model.to_dist(s)\n",
    "    thetas = torch.acos((samples_sprime[:, 0] - s[0]) / env.delta)\n",
    "    \n",
    "    A = torch.where(\n",
    "            s[0] <= 1 - env.delta,\n",
    "            0.0,\n",
    "            2.0 / torch.pi * torch.arccos((1 - s[0]) / env.delta),\n",
    "        )\n",
    "    B = torch.where(\n",
    "        s[1] <= 1 - env.delta,\n",
    "        1.0,\n",
    "        2.0 / torch.pi * torch.arcsin((1 - s[1]) / env.delta),\n",
    "    )\n",
    "    logprobs = (\n",
    "            dist.log_prob((thetas * 2 / np.pi - A) / (B - A))\n",
    "            + torch.log(1 - exit_proba)\n",
    "            - np.log(env.delta)\n",
    "            - np.log(np.pi / 2)\n",
    "            - torch.log(B - A)\n",
    "        )\n",
    "    return dist, exit_proba, logprobs\n"
   ]
  },
  {
   "attachments": {},
   "cell_type": "markdown",
   "metadata": {},
   "source": [
    "### Make sure P_F(. | s) is a valid proba dist on s' for s != s_0"
   ]
  },
  {
   "cell_type": "code",
   "execution_count": 201,
   "metadata": {},
   "outputs": [],
   "source": [
    "N = 5000\n",
    "\n",
    "s = torch.tensor([0.92, 0.3])\n",
    "# s = torch.tensor([0.15, 0.2])\n",
    "\n",
    "A = torch.where(\n",
    "            s[0] <= 1 - env.delta,\n",
    "            0.0,\n",
    "            2.0 / torch.pi * torch.arccos((1 - s[0]) / env.delta),\n",
    "        ).item()\n",
    "B = torch.where(\n",
    "    s[1] <= 1 - env.delta,\n",
    "    1.0,\n",
    "    2.0 / torch.pi * torch.arcsin((1 - s[1]) / env.delta),\n",
    ").item()\n",
    "all_thetas = torch.linspace(A * np.pi / 2, B * np.pi / 2, N)\n",
    "mid_points = (all_thetas[1:] + all_thetas[:-1]) / 2\n",
    "all_sprimes = s + env.delta * torch.stack([torch.cos(mid_points), torch.sin(mid_points)], dim=1)\n",
    "\n",
    "dist, exit_proba, logprobs = eval_logprobs(s, all_sprimes)\n"
   ]
  },
  {
   "cell_type": "code",
   "execution_count": 202,
   "metadata": {},
   "outputs": [
    {
     "data": {
      "text/plain": [
       "<matplotlib.collections.PathCollection at 0x166775090>"
      ]
     },
     "execution_count": 202,
     "metadata": {},
     "output_type": "execute_result"
    },
    {
     "data": {
      "image/png": "[encoded data removed]",
      "text/plain": [
       "<Figure size 300x300 with 1 Axes>"
      ]
     },
     "metadata": {},
     "output_type": "display_data"
    }
   ],
   "source": [
    "plt.figure(figsize=(3, 3))\n",
    "plt.scatter(all_sprimes[:, 0], all_sprimes[:, 1], s=0.1)\n",
    "plt.xlim(0, 1)\n",
    "plt.ylim(0, 1)\n",
    "plt.scatter(s[0], s[1], s=10, c='r')"
   ]
  },
  {
   "cell_type": "code",
   "execution_count": 203,
   "metadata": {},
   "outputs": [
    {
     "data": {
      "text/plain": [
       "tensor(0.9999, grad_fn=<AddBackward0>)"
      ]
     },
     "execution_count": 203,
     "metadata": {},
     "output_type": "execute_result"
    }
   ],
   "source": [
    "torch.sum(logprobs.exp() * (B - A) / N * env.delta * np.pi / 2 ) + exit_proba"
   ]
  },
  {
   "attachments": {},
   "cell_type": "markdown",
   "metadata": {},
   "source": [
    "### Make sure P_F(. | s_0) is a valid proba dist on s'"
   ]
  },
  {
   "cell_type": "code",
   "execution_count": 204,
   "metadata": {},
   "outputs": [],
   "source": [
    "# evaluate the areas of elements of the quantized disk\n",
    "def eval_areas(radius, N):\n",
    "    all_rs = torch.linspace(0, radius, N)\n",
    "    all_thetas = torch.linspace(0, np.pi / 2, N)\n",
    "    all_areas = torch.zeros((N - 1, N - 1))\n",
    "    for i in range(N-1):\n",
    "        diff_r_2 = all_rs[i+1]**2 - all_rs[i]**2\n",
    "        for j in range(N-1):\n",
    "            diff_theta = all_thetas[j+1] - all_thetas[j]\n",
    "            all_areas[i, j] = 0.5 * diff_r_2 * diff_theta\n",
    "\n",
    "    return all_areas"
   ]
  },
  {
   "cell_type": "code",
   "execution_count": 211,
   "metadata": {},
   "outputs": [],
   "source": [
    "def get_riemanian_sum(logprob_fn, radius, N):\n",
    "    all_rs = torch.linspace(0, radius, N)\n",
    "    all_thetas = torch.linspace(0, np.pi / 2, N)\n",
    "    all_areas = eval_areas(radius, N)\n",
    "    mid_points = torch.zeros((N-1, N-1, 2))\n",
    "    for i in range(N-1):\n",
    "        for j in range(N-1):\n",
    "            mid_points[i, j, 0] = 0.5 * (all_rs[i+1] + all_rs[i])\n",
    "            mid_points[i, j, 1] = 0.5 * (all_thetas[j+1] + all_thetas[j])\n",
    "\n",
    "    logprobs = logprob_fn(mid_points[:, :, 0] / radius, mid_points[:, :, 1] / (np.pi / 2))\n",
    "    return logprobs, all_areas, torch.sum(logprobs.exp() * all_areas)"
   ]
  },
  {
   "cell_type": "code",
   "execution_count": 212,
   "metadata": {},
   "outputs": [
    {
     "name": "stdout",
     "output_type": "stream",
     "text": [
      "tensor(0.1012, grad_fn=<SumBackward0>)\n",
      "tensor(0.1002, grad_fn=<SumBackward0>)\n",
      "tensor(0.1001, grad_fn=<SumBackward0>)\n",
      "tensor(0.1000, grad_fn=<SumBackward0>)\n",
      "tensor(0.1000, grad_fn=<SumBackward0>)\n",
      "tensor(0.1000, grad_fn=<SumBackward0>)\n"
     ]
    }
   ],
   "source": [
    "for N in [10, 50, 100, 200, 500, 700]:\n",
    "    logprobs, all_areas, riemanian_sum = get_riemanian_sum(lambda r, t: eval_logprobs_s0(r, t, True), env.delta, N)\n",
    "    print(riemanian_sum)"
   ]
  },
  {
   "cell_type": "code",
   "execution_count": 213,
   "metadata": {},
   "outputs": [
    {
     "ename": "AttributeError",
     "evalue": "'numpy.float64' object has no attribute 'exp'",
     "output_type": "error",
     "traceback": [
      "\u001b[0;31m---------------------------------------------------------------------------\u001b[0m",
      "\u001b[0;31mAttributeError\u001b[0m                            Traceback (most recent call last)",
      "Cell \u001b[0;32mIn [213], line 2\u001b[0m\n\u001b[1;32m      1\u001b[0m \u001b[39mfor\u001b[39;00m N \u001b[39min\u001b[39;00m [\u001b[39m10\u001b[39m, \u001b[39m50\u001b[39m, \u001b[39m100\u001b[39m, \u001b[39m200\u001b[39m, \u001b[39m500\u001b[39m, \u001b[39m700\u001b[39m]:\n\u001b[0;32m----> 2\u001b[0m     logprobs, all_areas, riemanian_sum \u001b[39m=\u001b[39m get_riemanian_sum(\u001b[39mlambda\u001b[39;49;00m r, t: eval_logprobs_s0(r, t, \u001b[39mFalse\u001b[39;49;00m), env\u001b[39m.\u001b[39;49mdelta, N)\n\u001b[1;32m      3\u001b[0m     \u001b[39mprint\u001b[39m(riemanian_sum)\n",
      "Cell \u001b[0;32mIn [211], line 12\u001b[0m, in \u001b[0;36mget_riemanian_sum\u001b[0;34m(logprob_fn, radius, N)\u001b[0m\n\u001b[1;32m      9\u001b[0m         mid_points[i, j, \u001b[39m1\u001b[39m] \u001b[39m=\u001b[39m \u001b[39m0.5\u001b[39m \u001b[39m*\u001b[39m (all_thetas[j\u001b[39m+\u001b[39m\u001b[39m1\u001b[39m] \u001b[39m+\u001b[39m all_thetas[j])\n\u001b[1;32m     11\u001b[0m logprobs \u001b[39m=\u001b[39m logprob_fn(mid_points[:, :, \u001b[39m0\u001b[39m] \u001b[39m/\u001b[39m radius, mid_points[:, :, \u001b[39m1\u001b[39m] \u001b[39m/\u001b[39m (np\u001b[39m.\u001b[39mpi \u001b[39m/\u001b[39m \u001b[39m2\u001b[39m))\n\u001b[0;32m---> 12\u001b[0m \u001b[39mreturn\u001b[39;00m logprobs, all_areas, torch\u001b[39m.\u001b[39msum(logprobs\u001b[39m.\u001b[39;49mexp() \u001b[39m*\u001b[39m all_areas)\n",
      "\u001b[0;31mAttributeError\u001b[0m: 'numpy.float64' object has no attribute 'exp'"
     ]
    }
   ],
   "source": [
    "for N in [10, 50, 100, 200, 500, 700]:\n",
    "    logprobs, all_areas, riemanian_sum = get_riemanian_sum(lambda r, t: eval_logprobs_s0(r, t, False), env.delta, N)\n",
    "    print(riemanian_sum)"
   ]
  },
  {
   "cell_type": "code",
   "execution_count": null,
   "metadata": {},
   "outputs": [],
   "source": []
  }
 ],
 "metadata": {
  "kernelspec": {
   "display_name": "contgfn",
   "language": "python",
   "name": "python3"
  },
  "language_info": {
   "codemirror_mode": {
    "name": "ipython",
    "version": 3
   },
   "file_extension": ".py",
   "mimetype": "text/x-python",
   "name": "python",
   "nbconvert_exporter": "python",
   "pygments_lexer": "ipython3",
   "version": "3.10.8"
  },
  "orig_nbformat": 4,
  "vscode": {
   "interpreter": {
    "hash": "2aa0bfb58edad99584c7294607398bb30b7d1f2bb537c138f409f4dc9a82185f"
   }
  }
 },
 "nbformat": 4,
 "nbformat_minor": 2
}
